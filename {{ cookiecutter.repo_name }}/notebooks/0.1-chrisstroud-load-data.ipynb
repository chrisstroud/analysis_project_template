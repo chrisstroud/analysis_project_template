{
 "cells": [
  {
   "cell_type": "markdown",
   "metadata": {},
   "source": [
    "# Raw Data Load Notebook\n",
    "**This notebook downloads raw data to '../data/raw/'**\n"
   ]
  },
  {
   "cell_type": "markdown",
   "metadata": {},
   "source": [
    "##  Setup"
   ]
  },
  {
   "cell_type": "code",
   "execution_count": 2,
   "metadata": {},
   "outputs": [],
   "source": [
    "# Libraries\n",
    "import os          \n",
    "import sqlalchemy\n",
    "import psycopg2\n",
    "import simplejson\n",
    "import pandas as pd\n",
    "\n",
    "# SQL\n",
    "%load_ext sql\n",
    "%config SqlMagic.displaylimit = 5\n",
    "\n",
    "# Load Redshift Credentials\n",
    "with open(\"/Users/chrisstroud/Documents/local/redshift_creds.json.nogit\") as fh:\n",
    "    creds = simplejson.loads(fh.read())\n",
    "    \n",
    "# Open connection to Redshift\n",
    "connect_to_db = 'postgresql+psycopg2://' + \\\n",
    "                creds['user_name'] + ':' + creds['password'] + '@' + \\\n",
    "                creds['host_name'] + ':' + creds['port_num'] + '/' + creds['db_name'];\n",
    "        \n",
    "%sql $connect_to_db\n",
    "    \n",
    "\n",
    "# Set working directory as root of project\n",
    "os.chdir('..')"
   ]
  },
  {
   "cell_type": "markdown",
   "metadata": {},
   "source": [
    "## SQL Querry  1\n"
   ]
  },
  {
   "cell_type": "code",
   "execution_count": 3,
   "metadata": {},
   "outputs": [
    {
     "name": "stdout",
     "output_type": "stream",
     "text": [
      "(psycopg2.ProgrammingError) syntax error at or near \"FROM\"\n",
      "LINE 4: FROM\n",
      "        ^\n",
      " [SQL: 'SELECT\\n  \\n\\nFROM']\n"
     ]
    }
   ],
   "source": [
    "%%sql\n",
    "\n",
    "SELECT\n",
    "  \n",
    "\n",
    "FROM\n",
    "\n",
    "\n",
    "\n",
    " \n"
   ]
  },
  {
   "cell_type": "code",
   "execution_count": 3,
   "metadata": {},
   "outputs": [],
   "source": [
    "# Load into Pandas Data Frame\n",
    "df = _.DataFrame()"
   ]
  },
  {
   "cell_type": "code",
   "execution_count": 4,
   "metadata": {},
   "outputs": [
    {
     "data": {
      "text/plain": [
       "seller            0\n",
       "account_name      0\n",
       "company_name      0\n",
       "plan            470\n",
       "dtype: int64"
      ]
     },
     "execution_count": 4,
     "metadata": {},
     "output_type": "execute_result"
    }
   ],
   "source": [
    "# How many NULLS are there?\n",
    "df.isnull().sum()"
   ]
  },
  {
   "cell_type": "code",
   "execution_count": 5,
   "metadata": {},
   "outputs": [],
   "source": [
    "# Export to raw folder\n",
    "df.to_csv('data/raw/df_raw.csv')\n"
   ]
  }
 ],
 "metadata": {
  "kernelspec": {
   "display_name": "Python 3",
   "language": "python",
   "name": "python3"
  },
  "language_info": {
   "codemirror_mode": {
    "name": "ipython",
    "version": 3
   },
   "file_extension": ".py",
   "mimetype": "text/x-python",
   "name": "python",
   "nbconvert_exporter": "python",
   "pygments_lexer": "ipython3",
   "version": "3.6.2"
  }
 },
 "nbformat": 4,
 "nbformat_minor": 2
}
