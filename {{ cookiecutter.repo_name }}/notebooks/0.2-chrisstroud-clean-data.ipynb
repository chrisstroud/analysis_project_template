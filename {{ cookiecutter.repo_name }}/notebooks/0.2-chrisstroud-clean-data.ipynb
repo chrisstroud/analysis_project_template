{
 "cells": [
  {
   "cell_type": "markdown",
   "metadata": {},
   "source": [
    "# 0.2 Clean data\n",
    "**This notebook transforms raw data from '../data/raw/' and place it in '../data/interim/'  **\n"
   ]
  },
  {
   "cell_type": "markdown",
   "metadata": {},
   "source": [
    "##  Setup"
   ]
  },
  {
   "cell_type": "code",
   "execution_count": 1,
   "metadata": {},
   "outputs": [],
   "source": [
    "# Libraries\n",
    "import os          \n",
    "import sqlalchemy\n",
    "import psycopg2\n",
    "import simplejson\n",
    "import pandas as pd\n",
    "import matplotlib.pyplot as plt\n",
    "import seaborn as sns\n",
    "import numpy as np\n",
    "\n",
    "    \n",
    "# Consistent Visuals\n",
    "%matplotlib inline\n",
    "pd.set_option('display.width', 600)\n",
    "pd.set_option('display.max_columns', 100)\n",
    "pd.set_option('display.notebook_repr_html', True)\n",
    "sns.set_style(\"whitegrid\")\n",
    "sns.set_context(\"poster\")\n",
    "\n",
    "# Set working directory as root of project\n",
    "os.chdir('..')\n"
   ]
  },
  {
   "cell_type": "markdown",
   "metadata": {},
   "source": [
    "## Clean Data from SQL querry 1 "
   ]
  },
  {
   "cell_type": "markdown",
   "metadata": {},
   "source": [
    "## Load & Preview"
   ]
  },
  {
   "cell_type": "code",
   "execution_count": 26,
   "metadata": {},
   "outputs": [
    {
     "data": {
      "text/html": [
       "<div>\n",
       "<style>\n",
       "    .dataframe thead tr:only-child th {\n",
       "        text-align: right;\n",
       "    }\n",
       "\n",
       "    .dataframe thead th {\n",
       "        text-align: left;\n",
       "    }\n",
       "\n",
       "    .dataframe tbody tr th {\n",
       "        vertical-align: top;\n",
       "    }\n",
       "</style>\n",
       "<table border=\"1\" class=\"dataframe\">\n",
       "  <thead>\n",
       "    <tr style=\"text-align: right;\">\n",
       "      <th></th>\n",
       "      <th>Unnamed: 0</th>\n",
       "      <th>seller</th>\n",
       "      <th>account_name</th>\n",
       "      <th>company_name</th>\n",
       "      <th>plan</th>\n",
       "    </tr>\n",
       "  </thead>\n",
       "  <tbody>\n",
       "    <tr>\n",
       "      <th>1368</th>\n",
       "      <td>1368</td>\n",
       "      <td>51f939de3e269e734300000a</td>\n",
       "      <td>Noble Jones Tours</td>\n",
       "      <td>Noble Jones Tours, LLC</td>\n",
       "      <td>NaN</td>\n",
       "    </tr>\n",
       "    <tr>\n",
       "      <th>1369</th>\n",
       "      <td>1369</td>\n",
       "      <td>5075b4d1986ae5a003000003</td>\n",
       "      <td>DJ's Snowmobile Adventures, Inc.</td>\n",
       "      <td>DJ's Snowmobile Adventures, Inc</td>\n",
       "      <td>NaN</td>\n",
       "    </tr>\n",
       "    <tr>\n",
       "      <th>1370</th>\n",
       "      <td>1370</td>\n",
       "      <td>57764d576864eabb438b45ae</td>\n",
       "      <td>Magic Carpet Glide - Denver</td>\n",
       "      <td>NaN</td>\n",
       "      <td>NaN</td>\n",
       "    </tr>\n",
       "    <tr>\n",
       "      <th>1371</th>\n",
       "      <td>1371</td>\n",
       "      <td>50775cef986ae51153000005</td>\n",
       "      <td>Kimberly</td>\n",
       "      <td>Redwood Creek Buckarettes</td>\n",
       "      <td>NaN</td>\n",
       "    </tr>\n",
       "    <tr>\n",
       "      <th>1372</th>\n",
       "      <td>1372</td>\n",
       "      <td>5207c447986ae59d7a000017</td>\n",
       "      <td>Arctic Tropic</td>\n",
       "      <td>NaN</td>\n",
       "      <td>NaN</td>\n",
       "    </tr>\n",
       "  </tbody>\n",
       "</table>\n",
       "</div>"
      ],
      "text/plain": [
       "      Unnamed: 0                    seller                      account_name                     company_name plan\n",
       "1368        1368  51f939de3e269e734300000a                Noble Jones Tours            Noble Jones Tours, LLC  NaN\n",
       "1369        1369  5075b4d1986ae5a003000003  DJ's Snowmobile Adventures, Inc.  DJ's Snowmobile Adventures, Inc  NaN\n",
       "1370        1370  57764d576864eabb438b45ae       Magic Carpet Glide - Denver                              NaN  NaN\n",
       "1371        1371  50775cef986ae51153000005                          Kimberly        Redwood Creek Buckarettes  NaN\n",
       "1372        1372  5207c447986ae59d7a000017                     Arctic Tropic                              NaN  NaN"
      ]
     },
     "execution_count": 26,
     "metadata": {},
     "output_type": "execute_result"
    }
   ],
   "source": [
    "# Load raw data\n",
    "df = pd.read_csv('data/raw/df_raw.csv')\n",
    "\n",
    "# Preview\n",
    "df.tail()"
   ]
  },
  {
   "cell_type": "markdown",
   "metadata": {},
   "source": [
    "## Clean"
   ]
  },
  {
   "cell_type": "markdown",
   "metadata": {},
   "source": [
    "## Export \n",
    "**Save to 'data/interim'**"
   ]
  },
  {
   "cell_type": "code",
   "execution_count": 30,
   "metadata": {},
   "outputs": [],
   "source": [
    "# Export to interim folder\n",
    "df.to_csv('data/interim/df_interim.csv')\n"
   ]
  }
 ],
 "metadata": {
  "kernelspec": {
   "display_name": "Python 3",
   "language": "python",
   "name": "python3"
  },
  "language_info": {
   "codemirror_mode": {
    "name": "ipython",
    "version": 3
   },
   "file_extension": ".py",
   "mimetype": "text/x-python",
   "name": "python",
   "nbconvert_exporter": "python",
   "pygments_lexer": "ipython3",
   "version": "3.6.2"
  }
 },
 "nbformat": 4,
 "nbformat_minor": 2
}
